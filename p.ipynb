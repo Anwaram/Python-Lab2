{
 "cells": [
  {
   "cell_type": "code",
   "execution_count": 2,
   "id": "eb13e4f2",
   "metadata": {},
   "outputs": [
    {
     "name": "stdout",
     "output_type": "stream",
     "text": [
      "I recommended it, It is good\n"
     ]
    }
   ],
   "source": [
    "m = 'Hunger games'\n",
    "r = 3\n",
    "p = 72.65\n",
    "if ((r >= 4) and (p > 80)) :\n",
    "    print('Highly recommended')\n",
    "elif ((r >= 3) and (p > 70)) :\n",
    "    print('I recommended it, It is good')\n",
    "elif ((r >= 2) and (p > 60)) :\n",
    "    print('You should check it out!')\n",
    "else:\n",
    "    print(\"Don't watch it, It is a waste of time\")"
   ]
  },
  {
   "cell_type": "code",
   "execution_count": null,
   "id": "ad3086d4",
   "metadata": {},
   "outputs": [],
   "source": []
  }
 ],
 "metadata": {
  "kernelspec": {
   "display_name": "Python 3 (ipykernel)",
   "language": "python",
   "name": "python3"
  },
  "language_info": {
   "codemirror_mode": {
    "name": "ipython",
    "version": 3
   },
   "file_extension": ".py",
   "mimetype": "text/x-python",
   "name": "python",
   "nbconvert_exporter": "python",
   "pygments_lexer": "ipython3",
   "version": "3.9.13"
  }
 },
 "nbformat": 4,
 "nbformat_minor": 5
}
